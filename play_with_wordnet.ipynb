{
 "cells": [
  {
   "cell_type": "code",
   "execution_count": 2,
   "metadata": {},
   "outputs": [
    {
     "name": "stderr",
     "output_type": "stream",
     "text": [
      "[nltk_data] Downloading package omw-1.4 to /u/z/i/ziyangc/nltk_data...\n",
      "[nltk_data]   Package omw-1.4 is already up-to-date!\n",
      "[nltk_data] Downloading package wordnet to /u/z/i/ziyangc/nltk_data...\n",
      "[nltk_data]   Package wordnet is already up-to-date!\n"
     ]
    },
    {
     "name": "stdout",
     "output_type": "stream",
     "text": [
      "[[Synset('entity.n.01'), Synset('physical_entity.n.01'), Synset('object.n.01'), Synset('whole.n.02'), Synset('living_thing.n.01'), Synset('organism.n.01'), Synset('animal.n.01'), Synset('chordate.n.01'), Synset('vertebrate.n.01'), Synset('aquatic_vertebrate.n.01'), Synset('fish.n.01'), Synset('bony_fish.n.01'), Synset('teleost_fish.n.01'), Synset('soft-finned_fish.n.01'), Synset('cypriniform_fish.n.01'), Synset('cyprinid.n.01'), Synset('tench.n.01')]]\n"
     ]
    }
   ],
   "source": [
    "import nltk\n",
    "from nltk.corpus import wordnet as wn\n",
    "nltk.download('omw-1.4')\n",
    "nltk.download('wordnet')\n",
    "import numpy as np\n",
    "\n",
    "all_paths = []\n",
    "with open(os.path.join('data/ImageNet','imagenet_class_clean.npy'), 'rb') as f:\n",
    "    imagenet_cls = np.load(f)\n",
    "    for c in imagenet_cls[0:10]:\n",
    "        word = wn.synsets(c)[0]\n",
    "        paths = word.hypernym_paths()\n",
    "        all_paths.append(paths)\n",
    "        # for i in range(0, 10):\n",
    "        #     word = word.hypernyms()[0]\n",
    "        #     print(word.name())"
   ]
  },
  {
   "cell_type": "code",
   "execution_count": null,
   "metadata": {},
   "outputs": [],
   "source": [
    "curr = [0 for _ in range(len(all_paths))]\n",
    "def find_children(node):\n",
    "    children = set()\n",
    "    for i, path in enumerate(all_paths):\n",
    "        children.add(path[curr[i]])\n",
    "    curr[i] += 1"
   ]
  }
 ],
 "metadata": {
  "interpreter": {
   "hash": "2840c87e800e1e7e18fa7d085d386a21f85789548a36ee1686fb8bea95d0b70b"
  },
  "kernelspec": {
   "display_name": "Python 3.8.12 64-bit ('env2': conda)",
   "name": "python3"
  },
  "language_info": {
   "codemirror_mode": {
    "name": "ipython",
    "version": 3
   },
   "file_extension": ".py",
   "mimetype": "text/x-python",
   "name": "python",
   "nbconvert_exporter": "python",
   "pygments_lexer": "ipython3",
   "version": "3.8.12"
  },
  "orig_nbformat": 4
 },
 "nbformat": 4,
 "nbformat_minor": 2
}
