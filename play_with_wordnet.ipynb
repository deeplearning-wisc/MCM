{
 "cells": [
  {
   "cell_type": "code",
   "execution_count": 2,
   "metadata": {},
   "outputs": [
    {
     "name": "stderr",
     "output_type": "stream",
     "text": [
      "[nltk_data] Downloading package omw-1.4 to /u/z/i/ziyangc/nltk_data...\n",
      "[nltk_data]   Package omw-1.4 is already up-to-date!\n",
      "[nltk_data] Downloading package wordnet to /u/z/i/ziyangc/nltk_data...\n",
      "[nltk_data]   Package wordnet is already up-to-date!\n"
     ]
    }
   ],
   "source": [
    "import nltk\n",
    "from nltk.corpus import wordnet as wn\n",
    "nltk.download('omw-1.4')\n",
    "nltk.download('wordnet')\n",
    "import numpy as np\n",
    "import json\n",
    "import networkx as nx\n",
    "import matplotlib.pyplot as plt\n",
    "\n",
    "with open(os.path.join('data/ImageNet','imagenet_class_index.json'), 'rb') as f:\n",
    "    imagenet_cls = json.load(f)\n",
    "    imagenet_cls = [wn.synset_from_pos_and_offset(c[0][0], int(c[0][1:])) for c in imagenet_cls.values()]"
   ]
  },
  {
   "cell_type": "code",
   "execution_count": 118,
   "metadata": {},
   "outputs": [
    {
     "name": "stdout",
     "output_type": "stream",
     "text": [
      "['consisting of a haphazard assortment of different kinds; ; ; ; ; ; - I.A.Richards', 'having many aspects']\n"
     ]
    }
   ],
   "source": [
    "# print(wn.synset_from_pos_and_offset('n', 1440764))\n",
    "print([s.definition() for s in wn.synsets('miscellaneous')])"
   ]
  },
  {
   "cell_type": "code",
   "execution_count": null,
   "metadata": {},
   "outputs": [],
   "source": [
    "G = nx.Graph()\n",
    "all_paths = []\n",
    "for word in imagenet_cls[0:1000]:\n",
    "    paths = word.hypernym_paths()\n",
    "    all_paths.append(paths)\n",
    "\n",
    "for paths in all_paths:\n",
    "    for path in paths:\n",
    "        for i in range(len(path) - 1):\n",
    "            G.add_edge(path[i].name(), path[i+1].name())\n",
    "\n",
    "# tree = []\n",
    "# search_range = 3\n",
    "# for i in range(np.max([len(path) for path in all_paths])):\n",
    "#     nodes = {path[i] for path in all_paths if i < len(path)}\n",
    "#     print(nodes)\n"
   ]
  },
  {
   "cell_type": "code",
   "execution_count": null,
   "metadata": {},
   "outputs": [],
   "source": [
    "from networkx.drawing.nx_agraph import graphviz_layout\n",
    "from networkx.drawing.layout import kamada_kawai_layout\n",
    "\n",
    "fig = plt.figure()\n",
    "fig.set_size_inches(100, 100)\n",
    "pos = kamada_kawai_layout(G)\n",
    "# pos = nx.spring_layout(G)\n",
    "nx.draw(G, pos, with_labels=True)"
   ]
  },
  {
   "cell_type": "code",
   "execution_count": 41,
   "metadata": {},
   "outputs": [
    {
     "name": "stdout",
     "output_type": "stream",
     "text": [
      "[[Synset('entity.n.01')]]\n",
      "[[Synset('physical_entity.n.01')]]\n",
      "[[Synset('object.n.01')], [Synset('physical_entity.n.01')]]\n",
      "[[Synset('whole.n.02')], [Synset('object.n.01')], [Synset('physical_entity.n.01')]]\n",
      "[[Synset('living_thing.n.01')], [Synset('whole.n.02')], [Synset('object.n.01')]]\n",
      "[[Synset('organism.n.01')], [Synset('living_thing.n.01')], [Synset('whole.n.02')]]\n",
      "[[Synset('animal.n.01')], [Synset('organism.n.01')], [Synset('living_thing.n.01')], [Synset('physical_entity.n.01')]]\n",
      "[[Synset('chordate.n.01')], [Synset('animal.n.01')], [Synset('organism.n.01')], [Synset('physical_entity.n.01')], [Synset('object.n.01')]]\n",
      "[[Synset('vertebrate.n.01')], [Synset('chordate.n.01')], [Synset('animal.n.01')], [Synset('object.n.01')], [Synset('whole.n.02')]]\n",
      "[[Synset('aquatic_vertebrate.n.01')], [Synset('vertebrate.n.01')], [Synset('chordate.n.01')], [Synset('whole.n.02')], [Synset('living_thing.n.01')]]\n",
      "[[Synset('fish.n.01')], [Synset('aquatic_vertebrate.n.01')], [Synset('vertebrate.n.01')], [Synset('living_thing.n.01')], [Synset('organism.n.01')]]\n",
      "[[Synset('bony_fish.n.01')], [Synset('fish.n.01')], [Synset('aquatic_vertebrate.n.01')], [Synset('organism.n.01')], [Synset('animal.n.01')]]\n",
      "[[Synset('teleost_fish.n.01')], [Synset('cartilaginous_fish.n.01')], [Synset('fish.n.01')], [Synset('animal.n.01')], [Synset('chordate.n.01')]]\n",
      "[[Synset('soft-finned_fish.n.01')], [Synset('elasmobranch.n.01')], [Synset('cartilaginous_fish.n.01')], [Synset('chordate.n.01')], [Synset('vertebrate.n.01')]]\n",
      "[[Synset('cypriniform_fish.n.01')], [Synset('shark.n.01')], [Synset('elasmobranch.n.01')], [Synset('vertebrate.n.01')], [Synset('bird.n.01')]]\n",
      "[[Synset('cyprinid.n.01')], [Synset('mackerel_shark.n.01'), Synset('requiem_shark.n.01')], [Synset('shark.n.01'), Synset('ray.n.07')], [Synset('bird.n.01')], [Synset('ratite.n.01')]]\n",
      "[[Synset('tench.n.01'), Synset('goldfish.n.01')], [Synset('great_white_shark.n.01')], [Synset('tiger_shark.n.01')], [Synset('hammerhead.n.03')], [Synset('electric_ray.n.01'), Synset('stingray.n.01')], [Synset('cock.n.05'), Synset('hen.n.02')], [Synset('ostrich.n.02')]]\n"
     ]
    }
   ],
   "source": [
    "from collections import OrderedDict\n",
    "\n",
    "root = wn.synset('entity.n.01')\n",
    "tree = [imagenet_cls[0:10]]\n",
    "while len(tree[0]) != 1:\n",
    "    lvl = OrderedDict()\n",
    "    for node in tree[0]:\n",
    "        if len(node.hypernyms()) > 0:\n",
    "            if node == root:\n",
    "                hyp = root\n",
    "            else:\n",
    "                hyp = node.hypernyms()[0]\n",
    "            if hyp in lvl:\n",
    "                lvl[hyp].append(node)\n",
    "            else:\n",
    "                lvl[hyp] = [node]\n",
    "    tree[0] = list(lvl.values())\n",
    "    tree.insert(0, list(lvl.keys()))\n",
    "tree[0] = [tree[0]]\n",
    "for lvl in tree:\n",
    "    print(lvl)\n"
   ]
  },
  {
   "cell_type": "code",
   "execution_count": 42,
   "metadata": {},
   "outputs": [
    {
     "ename": "AttributeError",
     "evalue": "'list' object has no attribute 'name'",
     "output_type": "error",
     "traceback": [
      "\u001b[0;31m---------------------------------------------------------------------------\u001b[0m",
      "\u001b[0;31mAttributeError\u001b[0m                            Traceback (most recent call last)",
      "\u001b[0;32m/tmp/ipykernel_621599/1708151090.py\u001b[0m in \u001b[0;36m<module>\u001b[0;34m\u001b[0m\n\u001b[1;32m      5\u001b[0m     \u001b[0mchildren\u001b[0m \u001b[0;34m=\u001b[0m \u001b[0mtree\u001b[0m\u001b[0;34m[\u001b[0m\u001b[0mi\u001b[0m\u001b[0;34m+\u001b[0m\u001b[0;36m1\u001b[0m\u001b[0;34m]\u001b[0m\u001b[0;34m\u001b[0m\u001b[0;34m\u001b[0m\u001b[0m\n\u001b[1;32m      6\u001b[0m     \u001b[0;32mfor\u001b[0m \u001b[0mj\u001b[0m\u001b[0;34m,\u001b[0m \u001b[0mword\u001b[0m \u001b[0;32min\u001b[0m \u001b[0menumerate\u001b[0m\u001b[0;34m(\u001b[0m\u001b[0mparents\u001b[0m\u001b[0;34m)\u001b[0m\u001b[0;34m:\u001b[0m\u001b[0;34m\u001b[0m\u001b[0;34m\u001b[0m\u001b[0m\n\u001b[0;32m----> 7\u001b[0;31m         \u001b[0mG\u001b[0m\u001b[0;34m.\u001b[0m\u001b[0madd_node\u001b[0m\u001b[0;34m(\u001b[0m\u001b[0mword\u001b[0m\u001b[0;34m.\u001b[0m\u001b[0mname\u001b[0m\u001b[0;34m(\u001b[0m\u001b[0;34m)\u001b[0m\u001b[0;34m)\u001b[0m\u001b[0;34m\u001b[0m\u001b[0;34m\u001b[0m\u001b[0m\n\u001b[0m\u001b[1;32m      8\u001b[0m         \u001b[0;32mfor\u001b[0m \u001b[0mword2\u001b[0m \u001b[0;32min\u001b[0m \u001b[0mchildren\u001b[0m\u001b[0;34m[\u001b[0m\u001b[0mj\u001b[0m\u001b[0;34m]\u001b[0m\u001b[0;34m:\u001b[0m\u001b[0;34m\u001b[0m\u001b[0;34m\u001b[0m\u001b[0m\n\u001b[1;32m      9\u001b[0m             \u001b[0mG\u001b[0m\u001b[0;34m.\u001b[0m\u001b[0madd_edge\u001b[0m\u001b[0;34m(\u001b[0m\u001b[0mword\u001b[0m\u001b[0;34m.\u001b[0m\u001b[0mname\u001b[0m\u001b[0;34m(\u001b[0m\u001b[0;34m)\u001b[0m\u001b[0;34m,\u001b[0m \u001b[0mword2\u001b[0m\u001b[0;34m.\u001b[0m\u001b[0mname\u001b[0m\u001b[0;34m(\u001b[0m\u001b[0;34m)\u001b[0m\u001b[0;34m)\u001b[0m\u001b[0;34m\u001b[0m\u001b[0;34m\u001b[0m\u001b[0m\n",
      "\u001b[0;31mAttributeError\u001b[0m: 'list' object has no attribute 'name'"
     ]
    }
   ],
   "source": [
    "G = nx.Graph()\n",
    "for i in range(len(tree)-1):\n",
    "    hi = []\n",
    "    for w in tree[i] hi += w\n",
    "    lo = tree[i+1]\n",
    "    for j, word in enumerate(hi):\n",
    "        G.add_node(word.name())\n",
    "        for word2 in children[j]:\n",
    "            G.add_edge(word.name(), word2.name())\n",
    "nx.draw()"
   ]
  },
  {
   "cell_type": "code",
   "execution_count": 129,
   "metadata": {},
   "outputs": [
    {
     "name": "stdout",
     "output_type": "stream",
     "text": [
      "Synset('animal.n.01') 401\n",
      "samples:  ['sea_slug.n.01', 'eft.n.01', 'skunk.n.04', 'crane.n.05', 'sea_lion.n.01']\n",
      "Synset('artifact.n.01') 522\n",
      "samples:  ['warplane.n.01', 'lens_cap.n.01', 'plate_rack.n.01', 'shovel.n.01', 'electric_guitar.n.01']\n",
      "misc 39\n",
      "samples:  ['potpie.n.01', 'chocolate_sauce.n.01', 'zucchini.n.02', 'butternut_squash.n.02', 'artichoke.n.02']\n",
      "Synset('natural_object.n.01') 17\n",
      "samples:  ['granny_smith.n.01', 'custard_apple.n.02', 'corn.n.02', 'buckeye.n.01', 'custard_apple.n.02']\n",
      "Synset('person.n.01') 3\n",
      "samples:  ['eggnog.n.01', 'eggnog.n.01', 'cup.n.06', 'red_wine.n.01', 'red_wine.n.01']\n",
      "Synset('geological_formation.n.01') 9\n",
      "samples:  ['lakeside.n.01', 'cliff.n.01', 'cliff.n.01', 'geyser.n.01', 'promontory.n.01']\n",
      "Synset('plant.n.02') 2\n",
      "samples:  [\"yellow_lady's_slipper.n.01\", \"yellow_lady's_slipper.n.01\", \"yellow_lady's_slipper.n.01\", \"yellow_lady's_slipper.n.01\", \"yellow_lady's_slipper.n.01\"]\n",
      "Synset('fungus.n.01') 7\n",
      "samples:  ['agaric.n.02', 'bolete.n.01', 'earthstar.n.01', 'gyromitra.n.01', 'bolete.n.01']\n"
     ]
    }
   ],
   "source": [
    "MOS_cls = ['animal.n.01', 'artifact.n.01', 'geological_formation.n.01', 'fungus.n.01', 'natural_object.n.01', 'person.n.01', 'plant.n.02']\n",
    "MOS_cls = [wn.synset(c) for c in MOS_cls]\n",
    "mapping = {}\n",
    "for word in imagenet_cls:\n",
    "    sims = [word.wup_similarity(c) for c in MOS_cls]\n",
    "    i = np.argmax(sims)\n",
    "    max_sim = sims[i]\n",
    "    cls_name = 'misc' if max_sim < 0.4 else MOS_cls[i]\n",
    "    if cls_name in mapping:\n",
    "        mapping[cls_name].append(word.name())\n",
    "    else:\n",
    "        mapping[cls_name] = [word.name()]\n",
    "\n",
    "\n",
    "for item in mapping.items():\n",
    "    print(item[0], len(item[1]))\n",
    "    print('samples: ', [item[1][i] for i in np.random.randint(len(item[1]), size=5)])\n",
    "\n",
    "# G = nx.Graph()\n",
    "# for item in mapping.items():\n",
    "#     for child in item[1]:\n",
    "#         G.add_edge(item[0].name(), child.name())\n",
    "\n",
    "# pos = nx.spring_layout(G)\n",
    "# nx.draw(G, with_labels=True)"
   ]
  },
  {
   "cell_type": "code",
   "execution_count": 3,
   "metadata": {},
   "outputs": [
    {
     "name": "stdout",
     "output_type": "stream",
     "text": [
      "Synset('animal.n.01') 401\n",
      "Synset('artifact.n.01') 522\n",
      "Synset('assorted.s.01') 3\n",
      "Synset('geological_formation.n.01') 45\n",
      "Synset('natural_object.n.01') 17\n",
      "Synset('person.n.01') 3\n",
      "Synset('plant.n.02') 2\n",
      "Synset('fungus.n.01') 7\n"
     ]
    }
   ],
   "source": [
    "MOS_cls = ['animal.n.01', 'artifact.n.01', 'geological_formation.n.01', 'fungus.n.01', 'natural_object.n.01', 'person.n.01', 'plant.n.02', 'miscellaneous.a.01']\n",
    "MOS_cls = [wn.synset(c) for c in MOS_cls]\n",
    "mapping = {}\n",
    "for word in imagenet_cls:\n",
    "    sims = [word.wup_similarity(c) for c in MOS_cls]\n",
    "    i = np.argmax(sims)\n",
    "    cls_name = MOS_cls[i]\n",
    "    if cls_name in mapping:\n",
    "        mapping[cls_name].append(word.name())\n",
    "    else:\n",
    "        mapping[cls_name] = [word.name()]\n",
    "\n",
    "\n",
    "for item in mapping.items():\n",
    "    print(item[0], len(item[1]))\n",
    "    # print('samples: ', [item[1][i] for i in np.random.randint(len(item[1]), size=5)])"
   ]
  }
 ],
 "metadata": {
  "interpreter": {
   "hash": "2840c87e800e1e7e18fa7d085d386a21f85789548a36ee1686fb8bea95d0b70b"
  },
  "kernelspec": {
   "display_name": "Python 3.8.12 64-bit ('env2': conda)",
   "name": "python3"
  },
  "language_info": {
   "codemirror_mode": {
    "name": "ipython",
    "version": 3
   },
   "file_extension": ".py",
   "mimetype": "text/x-python",
   "name": "python",
   "nbconvert_exporter": "python",
   "pygments_lexer": "ipython3",
   "version": "3.8.12"
  },
  "orig_nbformat": 4
 },
 "nbformat": 4,
 "nbformat_minor": 2
}
